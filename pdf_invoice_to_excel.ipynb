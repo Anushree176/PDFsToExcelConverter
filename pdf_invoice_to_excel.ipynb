{
 "cells": [
  {
   "cell_type": "code",
   "execution_count": 1,
   "id": "a0731edc",
   "metadata": {},
   "outputs": [
    {
     "name": "stderr",
     "output_type": "stream",
     "text": [
      "Using CPU. Note: This module is much faster with a GPU.\n"
     ]
    }
   ],
   "source": [
    "# !pip install pymupdf\n",
    "# !pip install easyocr\n",
    "import pandas as pd\n",
    "import fitz #PyMuPDF\n",
    "import io\n",
    "import os\n",
    "import PIL\n",
    "from PIL import Image\n",
    "from PIL import ImageDraw\n",
    "import easyocr\n",
    "\n",
    "reader = easyocr.Reader(['en'], gpu = False)"
   ]
  },
  {
   "cell_type": "code",
   "execution_count": 2,
   "id": "69b32afa",
   "metadata": {},
   "outputs": [],
   "source": [
    "def extract_images_from_pdf(pdf_file, path) :\n",
    "    with fitz.open(path+\"\\\\\"+pdf_file) as my_pdf_file:\n",
    "        table = []\n",
    "        for page_number in range(1, len(my_pdf_file)+1):\n",
    "            new_table = []\n",
    "            page = my_pdf_file[page_number-1]\n",
    "            images = page.getImageList()\n",
    "            if images:\n",
    "                print(f\"There are {len(images)} image/s on page number {page_number}[+]\")\n",
    "            else:\n",
    "                print(f\"There are No image/s on page number {page_number}[!]\")\n",
    "            for image_number, image in enumerate(page.getImageList(), start=1):\n",
    "                xref_value = image[0]\n",
    "                base_image = my_pdf_file.extractImage(xref_value)\n",
    "                image_bytes = base_image[\"image\"]\n",
    "                ext = base_image[\"ext\"]\n",
    "                image = Image.open(io.BytesIO(image_bytes))\n",
    "#                 image.save(open(f\"Images/Page{page_number}Image{image_number}.{ext}\", \"wb\"))\n",
    "                table.append(image_to_table(image, new_table))\n",
    "    return table\n",
    "\n",
    "def draw_boxes(image, bounds, color='yellow', width=2):\n",
    "    draw = ImageDraw.Draw(image)\n",
    "    for bound in bounds:\n",
    "        p0, p1, p2, p3 = bound[0]\n",
    "        draw.line([*p0, *p1, *p2, *p3, *p0], fill=color, width=width)\n",
    "    return image\n",
    "\n",
    "def image_to_table(image, table) :\n",
    "#     image = PIL.Image.open(img_path)\n",
    "    bounds = reader.readtext(image)\n",
    "    draw_boxes(image, bounds)\n",
    "\n",
    "    table.append([bounds[0][0][0][1], bounds[0][1]])\n",
    "    for b in range(1,len(bounds)):\n",
    "        if (bounds[b][0][0][1] - bounds[b-1][0][0][1]) < 20 :\n",
    "            bounds[b][0][0][1] = bounds[b-1][0][0][1]\n",
    "            table.append([bounds[b-1][0][0][1], bounds[b][1]])\n",
    "        else :\n",
    "            table.append([bounds[b][0][0][1], bounds[b][1]])\n",
    "            \n",
    "    values = sorted(set(map(lambda x:x[0], table)))\n",
    "    new_table = [[y[1] for y in table if y[0]==x] for x in values]\n",
    "    return new_table\n",
    "\n",
    "def table_to_excel(table, pdf_file) :\n",
    "    df= [item for sublist in table for item in sublist]\n",
    "    df_new = pd.DataFrame(df)\n",
    "    df_new.to_excel(\"Excel//\"+ pdf_file[:-4] +\"_excel.xlsx\", header=False, index=False)\n",
    "    return df_new"
   ]
  },
  {
   "cell_type": "code",
   "execution_count": 3,
   "id": "a99b5bb5",
   "metadata": {},
   "outputs": [
    {
     "name": "stderr",
     "output_type": "stream",
     "text": [
      "Deprecation: 'getImageList' removed from class 'Page' after v1.19 - use 'get_images'.\n",
      "Deprecation: 'extractImage' removed from class 'Document' after v1.19 - use 'extract_image'.\n"
     ]
    },
    {
     "name": "stdout",
     "output_type": "stream",
     "text": [
      "There are 1 image/s on page number 1[+]\n",
      "There are 1 image/s on page number 1[+]\n",
      "There are 1 image/s on page number 2[+]\n"
     ]
    }
   ],
   "source": [
    "path = os.path.abspath(os.getcwd())\n",
    "os.mkdir(path + '/Excel')\n",
    "pdfs_folder = 'pdfs' #modify the folder name\n",
    "pdf_list = os.listdir(path+\"/\"+pdfs_folder)\n",
    "path = path+\"\\\\\"+pdfs_folder\n",
    "\n",
    "for file in pdf_list :\n",
    "    tables = extract_images_from_pdf(file, path)\n",
    "    table_to_excel(tables, file)"
   ]
  }
 ],
 "metadata": {
  "kernelspec": {
   "display_name": "Python 3",
   "language": "python",
   "name": "python3"
  },
  "language_info": {
   "codemirror_mode": {
    "name": "ipython",
    "version": 3
   },
   "file_extension": ".py",
   "mimetype": "text/x-python",
   "name": "python",
   "nbconvert_exporter": "python",
   "pygments_lexer": "ipython3",
   "version": "3.6.13"
  }
 },
 "nbformat": 4,
 "nbformat_minor": 5
}
